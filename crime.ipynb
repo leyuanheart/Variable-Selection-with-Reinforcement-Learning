{
 "cells": [
  {
   "cell_type": "code",
   "execution_count": 3,
   "id": "0bbe8ad9",
   "metadata": {
    "ExecuteTime": {
     "end_time": "2021-11-07T09:00:13.741519Z",
     "start_time": "2021-11-07T09:00:13.729747Z"
    }
   },
   "outputs": [],
   "source": [
    "import numpy as np\n",
    "import matplotlib.pyplot as plt\n",
    "import pandas as pd\n",
    "import time\n",
    "import datetime\n",
    "import random\n",
    "import copy\n",
    "from tqdm import tqdm\n",
    "\n",
    "# import sklearn\n",
    "from sklearn.linear_model import LinearRegression, LassoLarsIC, LassoCV\n",
    "from sklearn.neural_network import MLPRegressor\n",
    "from sklearn.ensemble import RandomForestRegressor\n",
    "from sklearn.model_selection import train_test_split, StratifiedShuffleSplit\n",
    "from sklearn.metrics import confusion_matrix  #, f1_score\n",
    "from sklearn.feature_selection import SelectFromModel\n",
    "from sklearn.feature_selection import SequentialFeatureSelector\n",
    "from sklearn.preprocessing import OneHotEncoder\n",
    "from sklearn.preprocessing import StandardScaler\n",
    "from sklearn.svm import SVR\n",
    "\n",
    "from scipy.stats import multivariate_normal\n",
    "\n",
    "import torch\n",
    "from torch import nn\n",
    "from torch import optim\n",
    "from torch.nn import functional as F\n",
    "from torch.distributions import Bernoulli\n",
    "# from torchsummary import summary\n",
    "\n",
    "import multiprocessing as mp\n",
    "\n",
    "import os\n",
    "import sys"
   ]
  },
  {
   "cell_type": "markdown",
   "id": "e403f63e",
   "metadata": {},
   "source": [
    "# data preprocessing"
   ]
  },
  {
   "cell_type": "code",
   "execution_count": 4,
   "id": "e1297e35",
   "metadata": {
    "ExecuteTime": {
     "end_time": "2021-11-07T09:00:15.771659Z",
     "start_time": "2021-11-07T09:00:15.710930Z"
    }
   },
   "outputs": [
    {
     "data": {
      "text/plain": [
       "((1993, 101), (1993,))"
      ]
     },
     "execution_count": 4,
     "metadata": {},
     "output_type": "execute_result"
    }
   ],
   "source": [
    "dir_name = './real_data'\n",
    "paths = os.listdir('./real_data')\n",
    "\n",
    "automobile_p, spam_p, crime_norm_p, tem_p, crime_p = [os.path.join(dir_name, path) for path in paths]\n",
    "\n",
    "dat = pd.read_csv(crime_p)\n",
    "\n",
    "# ====================== data preprocessing ==========================\n",
    "X = dat.iloc[:, :-1].to_numpy()\n",
    "Y = dat.iloc[:, -1].to_numpy()\n",
    "X.shape, Y.shape"
   ]
  },
  {
   "cell_type": "markdown",
   "id": "d2fb7f24",
   "metadata": {},
   "source": [
    "# Architecture"
   ]
  },
  {
   "cell_type": "code",
   "execution_count": 14,
   "id": "09b6a890",
   "metadata": {
    "ExecuteTime": {
     "end_time": "2021-11-07T09:08:24.147161Z",
     "start_time": "2021-11-07T09:08:24.125969Z"
    }
   },
   "outputs": [],
   "source": [
    "## ===================================================================== -->\n",
    "def get_data(x, y, batch_size=32):\n",
    "#     x = StandardScaler(with_mean=True, with_std=True).fit_transform(x) -->\n",
    "    sample_size = x.shape[0]\n",
    "    idx = np.random.choice(range(sample_size), batch_size, replace=False)\n",
    "    return x[idx, :], y[idx, np.newaxis]\n",
    "\n",
    "\n",
    "\n",
    "class Actor(nn.Module):\n",
    "    def __init__(self, obs_dim, action_dim):\n",
    "        '''\n",
    "        obs_dim: dim_x or (dim_x + dim_y)\n",
    "        action_dim: dim_x\n",
    "        '''\n",
    "        super(Actor, self).__init__()\n",
    "        \n",
    "        \n",
    "        self.fc1 = nn.Linear(in_features=obs_dim, out_features=256)\n",
    "        self.fc2 = nn.Linear(256, action_dim)\n",
    "        \n",
    "    def forward(self, obs):\n",
    "        obs = torch.tensor(obs, dtype=torch.float)\n",
    "        logits = F.relu(self.fc1(obs))\n",
    "        logits = self.fc2(logits)\n",
    "        \n",
    "        m = Bernoulli(logits=logits)\n",
    "        \n",
    "        actions = m.sample()\n",
    "        log_probs = m.log_prob(actions)\n",
    "        entropy = m.entropy()\n",
    "        \n",
    "        return actions, log_probs, entropy\n",
    "\n",
    "\n",
    "\n",
    "\n",
    "def compute_reward(X_train, Y_train, X_test, Y_test, actions, num_iter=500, lr=1e-3, batch_size='auto', dictionary=dict()):\n",
    "    reward_list = []\n",
    "    for action in actions.detach().numpy():\n",
    "        \n",
    "        idx = np.where(action == 1)[0]\n",
    "        \n",
    "        if tuple(idx) in dictionary:\n",
    "            reward_list.append(dictionary[tuple(idx)])\n",
    "        else:\n",
    "            X_select = X_train[:, idx]        \n",
    "#             regressor = MLPRegressor(hidden_layer_sizes=(256,), random_state=1, learning_rate='adaptive', batch_size=batch_size,\n",
    "#                                       learning_rate_init=lr, max_iter=num_iter, tol=1e-3, alpha=0.01)\n",
    "            regressor = LassoLarsIC(criterion='bic')\n",
    "            regressor.fit(X_select, Y_train)\n",
    "            X_select = X_test[:, idx] \n",
    "            score = regressor.score(X_select, Y_test)\n",
    "            # mse = np.mean((Y_test - regressor.predict(X_select))**2)\n",
    "            dictionary[tuple(idx)] = 1 - score\n",
    "            reward_list.append(1 - score)\n",
    "        \n",
    "    return np.array(reward_list)"
   ]
  },
  {
   "cell_type": "markdown",
   "id": "236f419f",
   "metadata": {},
   "source": [
    "# training"
   ]
  },
  {
   "cell_type": "code",
   "execution_count": 22,
   "id": "6a793ea1",
   "metadata": {
    "ExecuteTime": {
     "end_time": "2021-11-07T09:34:20.438461Z",
     "start_time": "2021-11-07T09:22:34.797262Z"
    },
    "scrolled": true
   },
   "outputs": [
    {
     "name": "stdout",
     "output_type": "stream",
     "text": [
      "step:  0\n",
      "average reward: 0.46505854179757217\n",
      "step:  1\n",
      "average reward: 0.4663912270159621\n",
      "step:  2\n",
      "average reward: 0.4602064408004804\n",
      "step:  3\n",
      "average reward: 0.46344657697740876\n",
      "step:  4\n",
      "average reward: 0.46798105105468835\n",
      "step:  5\n",
      "average reward: 0.4647655819923925\n",
      "step:  6\n",
      "average reward: 0.4607387585141659\n",
      "step:  7\n",
      "average reward: 0.46561841070789445\n",
      "step:  8\n",
      "average reward: 0.4611449659729546\n",
      "step:  9\n",
      "average reward: 0.4634754053632527\n",
      "step:  10\n",
      "average reward: 0.46417303076792205\n",
      "step:  11\n",
      "average reward: 0.46210375903270406\n",
      "step:  12\n",
      "average reward: 0.4621934927606994\n",
      "step:  13\n",
      "average reward: 0.46403740255907666\n",
      "step:  14\n",
      "average reward: 0.46121542546602023\n",
      "step:  15\n",
      "average reward: 0.46227222076243546\n",
      "step:  16\n",
      "average reward: 0.46501519775134026\n",
      "step:  17\n",
      "average reward: 0.46176202443469627\n",
      "step:  18\n",
      "average reward: 0.4614563505125754\n",
      "step:  19\n",
      "average reward: 0.4621877459617387\n",
      "step:  20\n",
      "average reward: 0.46313370084751704\n",
      "step:  21\n",
      "average reward: 0.460703234807748\n",
      "step:  22\n",
      "average reward: 0.4644676677817496\n",
      "step:  23\n",
      "average reward: 0.46300168903792127\n",
      "step:  24\n",
      "average reward: 0.46258526043910714\n",
      "step:  25\n",
      "average reward: 0.46660445683436563\n",
      "step:  26\n",
      "average reward: 0.46225808120541634\n",
      "step:  27\n",
      "average reward: 0.4633118562432381\n",
      "step:  28\n",
      "average reward: 0.46604477431905006\n",
      "step:  29\n",
      "average reward: 0.45969323046458255\n",
      "step:  30\n",
      "average reward: 0.46482659635488166\n",
      "step:  31\n",
      "average reward: 0.46804618799137654\n",
      "step:  32\n",
      "average reward: 0.46173507740326714\n",
      "step:  33\n",
      "average reward: 0.4621310929509963\n",
      "step:  34\n",
      "average reward: 0.46377481685456756\n",
      "step:  35\n",
      "average reward: 0.4642671476011977\n",
      "step:  36\n",
      "average reward: 0.46104379615393754\n",
      "step:  37\n",
      "average reward: 0.4616072016401519\n",
      "step:  38\n",
      "average reward: 0.46061142559171453\n",
      "step:  39\n",
      "average reward: 0.4616771451704792\n",
      "step:  40\n",
      "average reward: 0.46285553414482494\n",
      "step:  41\n",
      "average reward: 0.4629955350125614\n",
      "step:  42\n",
      "average reward: 0.46619549553181205\n",
      "step:  43\n",
      "average reward: 0.46383159613510905\n",
      "step:  44\n",
      "average reward: 0.4620099607793494\n",
      "step:  45\n",
      "average reward: 0.4633256539982067\n",
      "step:  46\n",
      "average reward: 0.46354720799231564\n",
      "step:  47\n",
      "average reward: 0.4643325670064187\n",
      "step:  48\n",
      "average reward: 0.46119987293404413\n",
      "step:  49\n",
      "average reward: 0.4613094603855675\n",
      "step:  50\n",
      "average reward: 0.46083483884819987\n",
      "step:  51\n",
      "average reward: 0.46277885689111375\n",
      "step:  52\n",
      "average reward: 0.46121329299903757\n",
      "step:  53\n",
      "average reward: 0.4615445338521887\n",
      "step:  54\n",
      "average reward: 0.4624441239653368\n",
      "step:  55\n",
      "average reward: 0.46182709722666093\n",
      "step:  56\n",
      "average reward: 0.46170573310319507\n",
      "step:  57\n",
      "average reward: 0.4635153656114475\n",
      "step:  58\n",
      "average reward: 0.46364115494544134\n",
      "step:  59\n",
      "average reward: 0.4580858913566172\n",
      "step:  60\n",
      "average reward: 0.46213019769371994\n",
      "step:  61\n",
      "average reward: 0.4613001907265102\n",
      "step:  62\n",
      "average reward: 0.4611447255361332\n",
      "step:  63\n",
      "average reward: 0.4613734221266814\n",
      "step:  64\n",
      "average reward: 0.46033084326852813\n",
      "step:  65\n",
      "average reward: 0.4605475810786953\n",
      "step:  66\n",
      "average reward: 0.46242359514123565\n",
      "step:  67\n",
      "average reward: 0.4602702258200646\n",
      "step:  68\n",
      "average reward: 0.4576882153097581\n",
      "step:  69\n",
      "average reward: 0.45889140769039205\n",
      "step:  70\n",
      "average reward: 0.46417058782945164\n",
      "step:  71\n",
      "average reward: 0.4623182802820366\n",
      "step:  72\n",
      "average reward: 0.4590888609499563\n",
      "step:  73\n",
      "average reward: 0.4604248778443568\n",
      "step:  74\n",
      "average reward: 0.46181790425385916\n",
      "step:  75\n",
      "average reward: 0.458503706347998\n",
      "step:  76\n",
      "average reward: 0.46042683842031024\n",
      "step:  77\n",
      "average reward: 0.45791039682215173\n",
      "step:  78\n",
      "average reward: 0.4625557359339654\n",
      "step:  79\n",
      "average reward: 0.46079880501355014\n",
      "step:  80\n",
      "average reward: 0.4582213386441476\n",
      "step:  81\n",
      "average reward: 0.45757190160299316\n",
      "step:  82\n",
      "average reward: 0.4605564043897565\n",
      "step:  83\n",
      "average reward: 0.459289835973654\n",
      "step:  84\n",
      "average reward: 0.460049789014466\n",
      "step:  85\n",
      "average reward: 0.4587719823421131\n",
      "step:  86\n",
      "average reward: 0.457887840433683\n",
      "step:  87\n",
      "average reward: 0.4592166904961904\n",
      "step:  88\n",
      "average reward: 0.46058763864036545\n",
      "step:  89\n",
      "average reward: 0.4570518117440798\n",
      "step:  90\n",
      "average reward: 0.45628728020932185\n",
      "step:  91\n",
      "average reward: 0.45798943311930285\n",
      "step:  92\n",
      "average reward: 0.46103180956248924\n",
      "step:  93\n",
      "average reward: 0.456357932738954\n",
      "step:  94\n",
      "average reward: 0.4594765487635306\n",
      "step:  95\n",
      "average reward: 0.45765640181733647\n",
      "step:  96\n",
      "average reward: 0.4552457379483065\n",
      "step:  97\n",
      "average reward: 0.45987542027537576\n",
      "step:  98\n",
      "average reward: 0.4588355400348192\n",
      "step:  99\n",
      "average reward: 0.4570921733140876\n",
      "step:  100\n",
      "average reward: 0.45668017110259435\n",
      "step:  101\n",
      "average reward: 0.45789138747702735\n",
      "step:  102\n",
      "average reward: 0.45442897954585226\n",
      "step:  103\n",
      "average reward: 0.45679201817154513\n",
      "step:  104\n",
      "average reward: 0.45633196731671016\n",
      "step:  105\n",
      "average reward: 0.4556391865751216\n",
      "step:  106\n",
      "average reward: 0.4560581959391264\n",
      "step:  107\n",
      "average reward: 0.4547119131711762\n",
      "step:  108\n",
      "average reward: 0.453699560164425\n",
      "step:  109\n",
      "average reward: 0.45647069487761804\n",
      "step:  110\n",
      "average reward: 0.4560143266373351\n",
      "step:  111\n",
      "average reward: 0.45536994818238036\n",
      "step:  112\n",
      "average reward: 0.4557539127453326\n",
      "step:  113\n",
      "average reward: 0.4535097626818349\n",
      "step:  114\n",
      "average reward: 0.45629316650157475\n",
      "step:  115\n",
      "average reward: 0.4561419810304844\n",
      "step:  116\n",
      "average reward: 0.455471528336194\n",
      "step:  117\n",
      "average reward: 0.45466653478191843\n",
      "step:  118\n",
      "average reward: 0.45787638973650946\n",
      "step:  119\n",
      "average reward: 0.4552114267811185\n",
      "step:  120\n",
      "average reward: 0.45562799598531234\n",
      "step:  121\n",
      "average reward: 0.45800456990393634\n",
      "step:  122\n",
      "average reward: 0.45143340682881494\n",
      "step:  123\n",
      "average reward: 0.4542300551652837\n",
      "step:  124\n",
      "average reward: 0.45550693246371565\n",
      "step:  125\n",
      "average reward: 0.45463324736997457\n",
      "step:  126\n",
      "average reward: 0.45660982548988016\n",
      "step:  127\n",
      "average reward: 0.4545147917882387\n",
      "step:  128\n",
      "average reward: 0.45430307600644404\n",
      "step:  129\n",
      "average reward: 0.45495174186448906\n",
      "step:  130\n",
      "average reward: 0.45530232614331745\n",
      "step:  131\n",
      "average reward: 0.45727339487133334\n",
      "step:  132\n",
      "average reward: 0.4543482647842202\n",
      "step:  133\n",
      "average reward: 0.45218999113092206\n",
      "step:  134\n",
      "average reward: 0.45594074959415376\n",
      "step:  135\n",
      "average reward: 0.45483113422074906\n",
      "step:  136\n",
      "average reward: 0.45516177568384336\n",
      "step:  137\n",
      "average reward: 0.4550919326333887\n",
      "step:  138\n",
      "average reward: 0.4561918320751616\n",
      "step:  139\n",
      "average reward: 0.4523743756340351\n",
      "step:  140\n",
      "average reward: 0.45314147150415895\n",
      "step:  141\n",
      "average reward: 0.45586058095262394\n",
      "step:  142\n",
      "average reward: 0.4539378797783569\n",
      "step:  143\n",
      "average reward: 0.4536683053612312\n",
      "step:  144\n",
      "average reward: 0.4498815836852276\n",
      "step:  145\n",
      "average reward: 0.45341463599834414\n",
      "step:  146\n",
      "average reward: 0.4527389723951682\n",
      "step:  147\n",
      "average reward: 0.45375795336461555\n",
      "step:  148\n",
      "average reward: 0.45298967399112633\n",
      "step:  149\n",
      "average reward: 0.45583965413877503\n",
      "step:  150\n",
      "average reward: 0.45629817132583483\n",
      "step:  151\n",
      "average reward: 0.4574879752379253\n",
      "step:  152\n",
      "average reward: 0.45196209899139106\n",
      "step:  153\n",
      "average reward: 0.4532837371822631\n",
      "step:  154\n",
      "average reward: 0.45232880695455563\n",
      "step:  155\n",
      "average reward: 0.4533012379547107\n",
      "step:  156\n",
      "average reward: 0.45237763805415243\n",
      "step:  157\n",
      "average reward: 0.4502602166641128\n",
      "step:  158\n",
      "average reward: 0.4538072653476879\n",
      "step:  159\n",
      "average reward: 0.4522655079169619\n",
      "step:  160\n",
      "average reward: 0.45676245764949464\n",
      "step:  161\n",
      "average reward: 0.4518952548770662\n",
      "step:  162\n",
      "average reward: 0.4544494175112964\n",
      "step:  163\n",
      "average reward: 0.4518483890485814\n",
      "step:  164\n",
      "average reward: 0.4530587270226172\n",
      "step:  165\n",
      "average reward: 0.4512626793121982\n",
      "step:  166\n",
      "average reward: 0.4512030685053554\n",
      "step:  167\n",
      "average reward: 0.4518234872082558\n",
      "step:  168\n",
      "average reward: 0.45468070045201503\n",
      "step:  169\n",
      "average reward: 0.4497436874318255\n",
      "step:  170\n",
      "average reward: 0.4513714084117928\n",
      "step:  171\n",
      "average reward: 0.45187795955599636\n",
      "step:  172\n",
      "average reward: 0.4543470739577289\n",
      "step:  173\n",
      "average reward: 0.45173504995858793\n",
      "step:  174\n",
      "average reward: 0.45102660271594863\n",
      "step:  175\n",
      "average reward: 0.45034743411242373\n",
      "step:  176\n",
      "average reward: 0.45127712485840943\n",
      "step:  177\n",
      "average reward: 0.4505876510287974\n",
      "step:  178\n",
      "average reward: 0.450580278147078\n",
      "step:  179\n"
     ]
    },
    {
     "name": "stdout",
     "output_type": "stream",
     "text": [
      "average reward: 0.45071596432029165\n",
      "step:  180\n",
      "average reward: 0.4488599091703647\n",
      "step:  181\n",
      "average reward: 0.45116828194799463\n",
      "step:  182\n",
      "average reward: 0.4495898413082853\n",
      "step:  183\n",
      "average reward: 0.4531012562874158\n",
      "step:  184\n",
      "average reward: 0.451199141028209\n",
      "step:  185\n",
      "average reward: 0.44967839957543443\n",
      "step:  186\n",
      "average reward: 0.4515595049915456\n",
      "step:  187\n",
      "average reward: 0.4492772570006147\n",
      "step:  188\n",
      "average reward: 0.4518291095128133\n",
      "step:  189\n",
      "average reward: 0.4506834975610464\n",
      "step:  190\n",
      "average reward: 0.4492346703540695\n",
      "step:  191\n",
      "average reward: 0.449462279642733\n",
      "step:  192\n",
      "average reward: 0.4517311047410979\n",
      "step:  193\n",
      "average reward: 0.4526738186784649\n",
      "step:  194\n",
      "average reward: 0.44998153551334674\n",
      "step:  195\n",
      "average reward: 0.449198847189276\n",
      "step:  196\n",
      "average reward: 0.45113904583000275\n",
      "step:  197\n",
      "average reward: 0.4500045413430883\n",
      "step:  198\n",
      "average reward: 0.44915844948406636\n",
      "step:  199\n",
      "average reward: 0.4498742661130384\n",
      "step:  200\n",
      "average reward: 0.4495562850417015\n",
      "step:  201\n",
      "average reward: 0.4509940605302655\n",
      "step:  202\n",
      "average reward: 0.4528392112640532\n",
      "step:  203\n",
      "average reward: 0.45098563382340806\n",
      "step:  204\n",
      "average reward: 0.4507523036253333\n",
      "step:  205\n",
      "average reward: 0.4489993021543606\n",
      "step:  206\n",
      "average reward: 0.44995144885890526\n",
      "step:  207\n",
      "average reward: 0.4491271394892844\n",
      "step:  208\n",
      "average reward: 0.4489933483530755\n",
      "step:  209\n",
      "average reward: 0.4490872071569924\n",
      "step:  210\n",
      "average reward: 0.4493629224448279\n",
      "step:  211\n",
      "average reward: 0.4499561203410243\n",
      "step:  212\n",
      "average reward: 0.4498478203163262\n",
      "step:  213\n",
      "average reward: 0.45016110974286194\n",
      "step:  214\n",
      "average reward: 0.44991458804417966\n",
      "step:  215\n",
      "average reward: 0.4497549587253139\n",
      "step:  216\n",
      "average reward: 0.4497145071025924\n",
      "step:  217\n",
      "average reward: 0.44930785069028933\n",
      "step:  218\n",
      "average reward: 0.4487152087538573\n",
      "step:  219\n",
      "average reward: 0.4483020230761566\n",
      "step:  220\n",
      "average reward: 0.4511889536055933\n",
      "step:  221\n",
      "average reward: 0.4508677009679215\n",
      "step:  222\n",
      "average reward: 0.4478040884846175\n",
      "step:  223\n",
      "average reward: 0.45158633480131216\n",
      "step:  224\n",
      "average reward: 0.44995818696346246\n",
      "step:  225\n",
      "average reward: 0.44750431820439773\n",
      "step:  226\n",
      "average reward: 0.4493562894702196\n",
      "step:  227\n",
      "average reward: 0.4496794300928282\n",
      "step:  228\n",
      "average reward: 0.44773204969756564\n",
      "step:  229\n",
      "average reward: 0.4499063924976957\n",
      "step:  230\n",
      "average reward: 0.44832444828435214\n",
      "step:  231\n",
      "average reward: 0.44747016477586526\n",
      "step:  232\n",
      "average reward: 0.4510495847853925\n",
      "step:  233\n",
      "average reward: 0.4482483607442309\n",
      "step:  234\n",
      "average reward: 0.4481597991041951\n",
      "step:  235\n",
      "average reward: 0.44650136477531244\n",
      "step:  236\n",
      "average reward: 0.44987643172396846\n",
      "step:  237\n",
      "average reward: 0.44758576383515336\n",
      "step:  238\n",
      "average reward: 0.4501565710396659\n",
      "step:  239\n",
      "average reward: 0.44726877338422455\n",
      "step:  240\n",
      "average reward: 0.44802152721628385\n",
      "step:  241\n",
      "average reward: 0.4480284410699374\n",
      "step:  242\n",
      "average reward: 0.4489482483143435\n",
      "step:  243\n",
      "average reward: 0.4485857386136696\n",
      "step:  244\n",
      "average reward: 0.44921472746014635\n",
      "step:  245\n",
      "average reward: 0.44914178829902895\n",
      "step:  246\n",
      "average reward: 0.44735942397175077\n",
      "step:  247\n",
      "average reward: 0.4489283954333457\n",
      "step:  248\n",
      "average reward: 0.44911766144949145\n",
      "step:  249\n",
      "average reward: 0.44827609419390946\n",
      "step:  250\n",
      "average reward: 0.44803347658178605\n",
      "step:  251\n",
      "average reward: 0.4469010324724708\n",
      "step:  252\n",
      "average reward: 0.44738245203288585\n",
      "step:  253\n",
      "average reward: 0.4474872038173638\n",
      "step:  254\n",
      "average reward: 0.4465596969285355\n",
      "step:  255\n",
      "average reward: 0.44866761181973863\n",
      "step:  256\n",
      "average reward: 0.44970030851780474\n",
      "step:  257\n",
      "average reward: 0.4466777815875692\n",
      "step:  258\n",
      "average reward: 0.4484159154248458\n",
      "step:  259\n",
      "average reward: 0.4470372215379224\n",
      "step:  260\n",
      "average reward: 0.4472046121821138\n",
      "step:  261\n",
      "average reward: 0.44674642825314814\n",
      "step:  262\n",
      "average reward: 0.44679357368219463\n",
      "step:  263\n",
      "average reward: 0.44804011212066364\n",
      "step:  264\n",
      "average reward: 0.4478510771033533\n",
      "step:  265\n",
      "average reward: 0.4480262915180674\n",
      "step:  266\n",
      "average reward: 0.4472732515671407\n",
      "step:  267\n",
      "average reward: 0.4466064951282631\n",
      "step:  268\n",
      "average reward: 0.4482691094098118\n",
      "step:  269\n",
      "average reward: 0.4480232233516846\n",
      "step:  270\n",
      "average reward: 0.4472390413271263\n",
      "step:  271\n",
      "average reward: 0.44779907109792544\n",
      "step:  272\n",
      "average reward: 0.447553606231254\n",
      "step:  273\n",
      "average reward: 0.44794309769343443\n",
      "step:  274\n",
      "average reward: 0.4468045772850952\n",
      "step:  275\n",
      "average reward: 0.44672381402776756\n",
      "step:  276\n",
      "average reward: 0.44634944861799875\n",
      "step:  277\n",
      "average reward: 0.448531733878177\n",
      "step:  278\n",
      "average reward: 0.4456921058993971\n",
      "step:  279\n",
      "average reward: 0.4451444955590099\n",
      "step:  280\n",
      "average reward: 0.44591227071127354\n",
      "step:  281\n",
      "average reward: 0.44603852073230466\n",
      "step:  282\n",
      "average reward: 0.4463455449541076\n",
      "step:  283\n",
      "average reward: 0.44818684969128025\n",
      "step:  284\n",
      "average reward: 0.44546234607075197\n",
      "step:  285\n",
      "average reward: 0.44885244631581656\n",
      "step:  286\n",
      "average reward: 0.4464180603153526\n",
      "step:  287\n",
      "average reward: 0.4471413645473479\n",
      "step:  288\n",
      "average reward: 0.4466768894170845\n",
      "step:  289\n",
      "average reward: 0.4462974044416917\n",
      "step:  290\n",
      "average reward: 0.4453251371911757\n",
      "step:  291\n",
      "average reward: 0.4467319604917977\n",
      "step:  292\n",
      "average reward: 0.44658625216484743\n",
      "step:  293\n",
      "average reward: 0.44588909562947265\n",
      "step:  294\n",
      "average reward: 0.4466572746461044\n",
      "step:  295\n",
      "average reward: 0.44581106044853114\n",
      "step:  296\n",
      "average reward: 0.4467085682131251\n",
      "step:  297\n",
      "average reward: 0.44689900681279815\n",
      "step:  298\n",
      "average reward: 0.44666484355004654\n",
      "step:  299\n",
      "average reward: 0.4468795561963512\n",
      "step:  300\n",
      "average reward: 0.4474898235686269\n",
      "step:  301\n",
      "average reward: 0.44606600660814105\n",
      "step:  302\n",
      "average reward: 0.44715965565617244\n",
      "step:  303\n",
      "average reward: 0.44654656036874274\n",
      "step:  304\n",
      "average reward: 0.44680999861308546\n",
      "step:  305\n",
      "average reward: 0.4447224292412081\n",
      "step:  306\n",
      "average reward: 0.44595873452731793\n",
      "step:  307\n",
      "average reward: 0.44672541957856066\n",
      "step:  308\n",
      "average reward: 0.44691416039083653\n",
      "step:  309\n",
      "average reward: 0.44687907469070887\n",
      "step:  310\n",
      "average reward: 0.44714399274466915\n",
      "step:  311\n",
      "average reward: 0.44604539603787535\n",
      "step:  312\n",
      "average reward: 0.44592125437495683\n",
      "step:  313\n",
      "average reward: 0.44543918870243326\n",
      "step:  314\n",
      "average reward: 0.44625617933973005\n",
      "step:  315\n",
      "average reward: 0.44518581771087534\n",
      "step:  316\n",
      "average reward: 0.4463608515250496\n",
      "step:  317\n",
      "average reward: 0.4447211935465637\n",
      "step:  318\n",
      "average reward: 0.44699431371285525\n",
      "step:  319\n",
      "average reward: 0.44621137573847885\n",
      "step:  320\n",
      "average reward: 0.4467774022397348\n",
      "step:  321\n",
      "average reward: 0.44572077133902527\n",
      "step:  322\n",
      "average reward: 0.4451649056006989\n",
      "step:  323\n",
      "average reward: 0.442993221610419\n",
      "step:  324\n",
      "average reward: 0.44629479451367476\n",
      "step:  325\n",
      "average reward: 0.44633665635066033\n",
      "step:  326\n",
      "average reward: 0.44605579615967106\n",
      "step:  327\n",
      "average reward: 0.4458842607589205\n",
      "step:  328\n",
      "average reward: 0.4455800366055037\n",
      "step:  329\n",
      "average reward: 0.4460222848812508\n",
      "step:  330\n",
      "average reward: 0.44586708336231434\n",
      "step:  331\n",
      "average reward: 0.44425250540103844\n",
      "step:  332\n",
      "average reward: 0.4452320355946156\n",
      "step:  333\n",
      "average reward: 0.44436834089098654\n",
      "step:  334\n",
      "average reward: 0.4449327640970213\n",
      "step:  335\n",
      "average reward: 0.44432236115480817\n",
      "step:  336\n",
      "average reward: 0.4460478741029587\n",
      "step:  337\n",
      "average reward: 0.44429159736974333\n",
      "step:  338\n",
      "average reward: 0.44473584662219995\n",
      "step:  339\n",
      "average reward: 0.4450815203961167\n",
      "step:  340\n",
      "average reward: 0.446753976177409\n",
      "step:  341\n",
      "average reward: 0.44289617428284833\n",
      "step:  342\n",
      "average reward: 0.44463347508513923\n",
      "step:  343\n",
      "average reward: 0.4455471470427377\n",
      "step:  344\n",
      "average reward: 0.44588668981358637\n",
      "step:  345\n",
      "average reward: 0.44519953720309197\n",
      "step:  346\n",
      "average reward: 0.44472507578743936\n",
      "step:  347\n",
      "average reward: 0.44650058758489986\n",
      "step:  348\n",
      "average reward: 0.4445194392076325\n",
      "step:  349\n",
      "average reward: 0.44461380790565513\n",
      "step:  350\n",
      "average reward: 0.44382802166841606\n",
      "step:  351\n",
      "average reward: 0.44493882583986083\n",
      "step:  352\n",
      "average reward: 0.4439711594340691\n",
      "step:  353\n",
      "average reward: 0.44455987337345076\n",
      "step:  354\n",
      "average reward: 0.4442307999693709\n",
      "step:  355\n",
      "average reward: 0.44571023964581796\n",
      "step:  356\n"
     ]
    },
    {
     "name": "stdout",
     "output_type": "stream",
     "text": [
      "average reward: 0.44640876413137265\n",
      "step:  357\n",
      "average reward: 0.44502516483109233\n",
      "step:  358\n",
      "average reward: 0.44453314690227297\n",
      "step:  359\n",
      "average reward: 0.44355940388515536\n",
      "step:  360\n",
      "average reward: 0.4456104913815706\n",
      "step:  361\n",
      "average reward: 0.44349674607439404\n",
      "step:  362\n",
      "average reward: 0.44559597610622226\n",
      "step:  363\n",
      "average reward: 0.4439184995939489\n",
      "step:  364\n",
      "average reward: 0.4438991149806184\n",
      "step:  365\n",
      "average reward: 0.4447994911705938\n",
      "step:  366\n",
      "average reward: 0.4438437478842385\n",
      "step:  367\n",
      "average reward: 0.44554121855297296\n",
      "step:  368\n",
      "average reward: 0.4452328885048362\n",
      "step:  369\n",
      "average reward: 0.4447541045524652\n",
      "step:  370\n",
      "average reward: 0.44387649289148223\n",
      "step:  371\n",
      "average reward: 0.4432485111983734\n",
      "step:  372\n",
      "average reward: 0.44296867340718926\n",
      "step:  373\n",
      "average reward: 0.4432784739805592\n",
      "step:  374\n",
      "average reward: 0.4436889259983043\n",
      "step:  375\n",
      "average reward: 0.44403603971789807\n",
      "step:  376\n",
      "average reward: 0.443973821312053\n",
      "step:  377\n",
      "average reward: 0.4437085903974505\n",
      "step:  378\n",
      "average reward: 0.4429959241169563\n",
      "step:  379\n",
      "average reward: 0.44411581950670764\n",
      "step:  380\n",
      "average reward: 0.4457758852350353\n",
      "step:  381\n",
      "average reward: 0.44362551813667384\n",
      "step:  382\n",
      "average reward: 0.4442480249558348\n",
      "step:  383\n",
      "average reward: 0.44414050019516305\n",
      "step:  384\n",
      "average reward: 0.443829415485935\n",
      "step:  385\n",
      "average reward: 0.4430323152256752\n",
      "step:  386\n",
      "average reward: 0.4430887782735544\n",
      "step:  387\n",
      "average reward: 0.4443955107832923\n",
      "step:  388\n",
      "average reward: 0.4433745481180559\n",
      "step:  389\n",
      "average reward: 0.44380222363431243\n",
      "step:  390\n",
      "average reward: 0.4429238898147514\n",
      "step:  391\n",
      "average reward: 0.44256582186574395\n",
      "step:  392\n",
      "average reward: 0.44312419668504444\n",
      "step:  393\n",
      "average reward: 0.4439542999033198\n",
      "step:  394\n",
      "average reward: 0.4440763165262954\n",
      "step:  395\n",
      "average reward: 0.4438128607213625\n",
      "step:  396\n",
      "average reward: 0.4447039876601133\n",
      "step:  397\n",
      "average reward: 0.4427398945749188\n",
      "step:  398\n",
      "average reward: 0.4432069027054836\n",
      "step:  399\n",
      "average reward: 0.44269815178069477\n",
      "step:  400\n",
      "average reward: 0.4432270366400734\n",
      "step:  401\n",
      "average reward: 0.4427449569438243\n",
      "step:  402\n",
      "average reward: 0.44277592208606603\n",
      "step:  403\n",
      "average reward: 0.4428933622553266\n",
      "step:  404\n",
      "average reward: 0.44178176074908204\n",
      "step:  405\n",
      "average reward: 0.44339783255677\n",
      "step:  406\n",
      "average reward: 0.44381124539193495\n",
      "step:  407\n",
      "average reward: 0.44245531156405793\n",
      "step:  408\n",
      "average reward: 0.4433352751605314\n",
      "step:  409\n",
      "average reward: 0.44251130286731954\n",
      "step:  410\n",
      "average reward: 0.443084612805826\n",
      "step:  411\n",
      "average reward: 0.4439684549089254\n",
      "step:  412\n",
      "average reward: 0.4440755003789146\n",
      "step:  413\n",
      "average reward: 0.44274228677730454\n",
      "step:  414\n",
      "average reward: 0.4431664606215366\n",
      "step:  415\n",
      "average reward: 0.44279011290505155\n",
      "step:  416\n",
      "average reward: 0.4406030069683734\n",
      "step:  417\n",
      "average reward: 0.4422360093429616\n",
      "step:  418\n",
      "average reward: 0.4433893388390384\n",
      "step:  419\n",
      "average reward: 0.4435380059592442\n",
      "step:  420\n",
      "average reward: 0.44395667861526533\n",
      "step:  421\n",
      "average reward: 0.44277424874071647\n",
      "step:  422\n",
      "average reward: 0.4429580013255394\n",
      "step:  423\n",
      "average reward: 0.4423754120247655\n",
      "step:  424\n",
      "average reward: 0.44147179253800634\n",
      "step:  425\n",
      "average reward: 0.4433769076313911\n",
      "step:  426\n",
      "average reward: 0.4428067061624389\n",
      "step:  427\n",
      "average reward: 0.4418691132916097\n",
      "step:  428\n",
      "average reward: 0.4431274461860575\n",
      "step:  429\n",
      "average reward: 0.44353304960461293\n",
      "step:  430\n",
      "average reward: 0.4419158369060505\n",
      "step:  431\n",
      "average reward: 0.44087106069520926\n",
      "step:  432\n",
      "average reward: 0.4424629471031356\n",
      "step:  433\n",
      "average reward: 0.4445064726287979\n",
      "step:  434\n",
      "average reward: 0.44254026265114044\n",
      "step:  435\n",
      "average reward: 0.4420957353110847\n",
      "step:  436\n",
      "average reward: 0.442286143600224\n",
      "step:  437\n",
      "average reward: 0.4419822422032549\n",
      "step:  438\n",
      "average reward: 0.44301205627608975\n",
      "step:  439\n",
      "average reward: 0.441507167415222\n",
      "step:  440\n",
      "average reward: 0.4417143107069996\n",
      "step:  441\n",
      "average reward: 0.44192050719962206\n",
      "step:  442\n",
      "average reward: 0.44338755181876444\n",
      "step:  443\n",
      "average reward: 0.4427901649821646\n",
      "step:  444\n",
      "average reward: 0.44224804758876696\n",
      "step:  445\n",
      "average reward: 0.44309919144709764\n",
      "step:  446\n",
      "average reward: 0.44129866294362025\n",
      "step:  447\n",
      "average reward: 0.44260622540922306\n",
      "step:  448\n",
      "average reward: 0.44103930415446313\n",
      "step:  449\n",
      "average reward: 0.44056913485597404\n",
      "step:  450\n",
      "average reward: 0.4414279397428569\n",
      "step:  451\n",
      "average reward: 0.44192176684766143\n",
      "step:  452\n",
      "average reward: 0.4412133279719873\n",
      "step:  453\n",
      "average reward: 0.441671886440977\n",
      "step:  454\n",
      "average reward: 0.4413790902054862\n",
      "step:  455\n",
      "average reward: 0.4422899387298961\n",
      "step:  456\n",
      "average reward: 0.44307797171417984\n",
      "step:  457\n",
      "average reward: 0.4422246490324374\n",
      "step:  458\n",
      "average reward: 0.4419600516775134\n",
      "step:  459\n",
      "average reward: 0.44314754372440296\n",
      "step:  460\n",
      "average reward: 0.4413614677633776\n",
      "step:  461\n",
      "average reward: 0.44258614068567054\n",
      "step:  462\n",
      "average reward: 0.4414860520667351\n",
      "step:  463\n",
      "average reward: 0.4422079042685712\n",
      "step:  464\n",
      "average reward: 0.4412966907932172\n",
      "step:  465\n",
      "average reward: 0.4416554939976128\n",
      "step:  466\n",
      "average reward: 0.44185146779590645\n",
      "step:  467\n",
      "average reward: 0.44116358012396184\n",
      "step:  468\n",
      "average reward: 0.441199453671289\n",
      "step:  469\n",
      "average reward: 0.44182665481035477\n",
      "step:  470\n",
      "average reward: 0.4431383099061287\n",
      "step:  471\n",
      "average reward: 0.44175281401369315\n",
      "step:  472\n",
      "average reward: 0.4423092161270319\n",
      "step:  473\n",
      "average reward: 0.44189159326377714\n",
      "step:  474\n",
      "average reward: 0.44221161423321276\n",
      "step:  475\n",
      "average reward: 0.4415148739180086\n",
      "step:  476\n",
      "average reward: 0.4412896453118357\n",
      "step:  477\n",
      "average reward: 0.44111797336028435\n",
      "step:  478\n",
      "average reward: 0.44122756233710836\n",
      "step:  479\n",
      "average reward: 0.441461490204319\n",
      "step:  480\n",
      "average reward: 0.4416926717359834\n",
      "step:  481\n",
      "average reward: 0.44123590179502753\n",
      "step:  482\n",
      "average reward: 0.4410452615358809\n",
      "step:  483\n",
      "average reward: 0.4409545911217365\n",
      "step:  484\n",
      "average reward: 0.44083680540308434\n",
      "step:  485\n",
      "average reward: 0.44225668664986806\n",
      "step:  486\n",
      "average reward: 0.44090191707820636\n",
      "step:  487\n",
      "average reward: 0.4416986209144664\n",
      "step:  488\n",
      "average reward: 0.4416570858679746\n",
      "step:  489\n",
      "average reward: 0.4406003974104606\n",
      "step:  490\n",
      "average reward: 0.44138903703136\n",
      "step:  491\n",
      "average reward: 0.4408845906001296\n",
      "step:  492\n",
      "average reward: 0.4415392814128729\n",
      "step:  493\n",
      "average reward: 0.4416739851884307\n",
      "step:  494\n",
      "average reward: 0.4406337794743913\n",
      "step:  495\n",
      "average reward: 0.44049909254080616\n",
      "step:  496\n",
      "average reward: 0.44165041969719854\n",
      "step:  497\n",
      "average reward: 0.44132372226177763\n",
      "step:  498\n",
      "average reward: 0.4413753374516961\n",
      "step:  499\n",
      "average reward: 0.44143167554776813\n",
      "0:11:45.618247\n"
     ]
    }
   ],
   "source": [
    "# ============================= one run ==========================================\n",
    "start = time.time()\n",
    "# training steps\n",
    "\n",
    "seed = 8\n",
    "np.random.seed(seed)\n",
    "torch.manual_seed(seed)\n",
    "\n",
    "\n",
    "x_train, x_test, y_train, y_test = train_test_split(X, Y, test_size=0.3, random_state=seed)\n",
    "\n",
    "\n",
    "scaler_x = StandardScaler()\n",
    "x_train = scaler_x.fit_transform(x_train)\n",
    "x_test = scaler_x.transform(x_test)\n",
    "\n",
    "scaler_y = StandardScaler()\n",
    "y_train = scaler_y.fit_transform(y_train[:, np.newaxis]).ravel()\n",
    "y_test = scaler_y.transform(y_test[:, np.newaxis]).ravel()\n",
    "\n",
    "m = 1395\n",
    "n = 101\n",
    "\n",
    "\n",
    "# scaler = StandardScaler()\n",
    "# x_train = scaler.fit_transform(x_train)\n",
    "\n",
    "\n",
    "actor = Actor(obs_dim=n+1, action_dim=n)\n",
    "actor_optimizer = optim.Adam(actor.parameters(), lr=1e-3)\n",
    "\n",
    "    \n",
    "action_select = []\n",
    "dictionary = dict()\n",
    "r_list = []\n",
    "\n",
    "r_baseline = torch.tensor(0)\n",
    "\n",
    "\n",
    "x_tt, x_val, y_tt, y_val = train_test_split(x_train, y_train, test_size=0.3, random_state=seed)\n",
    "\n",
    "\n",
    "for step in range(500):\n",
    "    print('step: ', step)\n",
    "    \n",
    "    X_train, Y_train = get_data(x_tt, y_tt, batch_size=64)\n",
    "    \n",
    "    obs = np.concatenate((X_train, Y_train), axis=1) \n",
    "    actions, log_probs, entropy = actor(obs)\n",
    "    action_select.append(actions.detach().numpy().mean(axis=0))\n",
    "    \n",
    "    # r_baseline = critic(X_train)\n",
    "    # r_baseline = r_baseline.squeeze()\n",
    "    \n",
    "    \n",
    "    rewards = compute_reward(x_tt, y_tt, x_val, y_val, actions, num_iter=800, lr=1e-2, batch_size=64, dictionary=dictionary)\n",
    "    r_list.append(rewards.mean())\n",
    "    print(f'average reward: {rewards.mean()}')\n",
    "    rewards = torch.tensor(rewards, dtype=torch.float32)\n",
    "    \n",
    "    r_baseline = 0.95 * r_baseline + 0.05 * rewards.mean()\n",
    "    \n",
    "    # update actor\n",
    "    actor_loss =  ((rewards - r_baseline) * log_probs.sum(dim=-1)).mean()\n",
    "    # actor_loss =  (rewards * log_probs.sum(dim=-1)).mean()\n",
    "    actor_optimizer.zero_grad()\n",
    "    actor_loss.backward()\n",
    "    actor_optimizer.step()\n",
    "    # print(f'actor loss: {actor_loss.item()}')\n",
    "    \n",
    "    # actor_loss =  (rewards * log_probs.sum(dim=-1)).mean()\n",
    "    # actor_optimizer.zero_grad()\n",
    "    # actor_loss.backward()\n",
    "    # actor_optimizer.step()\n",
    "    # print(f'actor loss: {actor_loss.item()}\\n')\n",
    "    \n",
    "    # update critic\n",
    "    # critic_loss = F.mse_loss(r_baseline, rewards)\n",
    "    # critic_optimizer.zero_grad()\n",
    "    # critic_loss.backward()\n",
    "    # critic_optimizer.step()\n",
    "    # print(f'critic loss: {critic_loss.item()}\\n')\n",
    "    \n",
    "#     if step > 6:\n",
    "#         if (abs(r_list[-1] - r_list[-2]) < 1e-3) & (abs(r_list[-2] - r_list[-3]) < 1e-3) & (abs(r_list[-3] - r_list[-4]) < 1e-3) & (abs(r_list[-4] - r_list[-5]) < 1e-3):\n",
    "#             print(f'converge at step {step}')\n",
    "#             break\n",
    "\n",
    "end = time.time()\n",
    "\n",
    "print(datetime.timedelta(seconds=end - start))"
   ]
  },
  {
   "cell_type": "markdown",
   "id": "5d9baddc",
   "metadata": {},
   "source": [
    "# plot"
   ]
  },
  {
   "cell_type": "code",
   "execution_count": 23,
   "id": "9748aafc",
   "metadata": {
    "ExecuteTime": {
     "end_time": "2021-11-07T10:04:10.200667Z",
     "start_time": "2021-11-07T10:04:03.058838Z"
    }
   },
   "outputs": [
    {
     "data": {
      "image/png": "[encoded data removed]",
      "text/plain": [
       "<Figure size 432x288 with 1 Axes>"
      ]
     },
     "metadata": {
      "needs_background": "light"
     },
     "output_type": "display_data"
    },
    {
     "data": {
      "image/png": "[encoded data removed]",
      "text/plain": [
       "<Figure size 432x288 with 50 Axes>"
      ]
     },
     "metadata": {
      "needs_background": "light"
     },
     "output_type": "display_data"
    },
    {
     "data": {
      "image/png": "[encoded data removed]",
      "text/plain": [
       "<Figure size 432x288 with 50 Axes>"
      ]
     },
     "metadata": {
      "needs_background": "light"
     },
     "output_type": "display_data"
    }
   ],
   "source": [
    "plt.figure()\n",
    "plt.subplots_adjust(top=0.965,\n",
    "bottom=0.145,\n",
    "left=0.1,\n",
    "right=0.9,\n",
    "hspace=0.2,\n",
    "wspace=0.2)\n",
    "plt.plot(r_list)\n",
    "# plt.xlim(0, 1000)\n",
    "plt.xlabel('Iteration')\n",
    "plt.ylabel('Negative Reward')\n",
    "# plt.yticks([12, 20, 40, 60, 80, 100, 120])\n",
    "# plt.hlines(12, 0, 1000, color='r')\n",
    "# plt.savefig('1.eps')\n",
    "'''\n",
    "top=0.976,\n",
    "bottom=0.094,\n",
    "left=0.07,\n",
    "right=0.984,\n",
    "hspace=0.2,\n",
    "wspace=0.2\n",
    "'''\n",
    "\n",
    "\n",
    "fig, axes = plt.subplots(5, 10, sharex=False, sharey=True)\n",
    "# plt.subplots_adjust(\n",
    "# top=0.965,\n",
    "# bottom=0.09,\n",
    "# left=0.03,\n",
    "# right=0.83,\n",
    "# hspace=0.52,\n",
    "# wspace=0.18)\n",
    "# fig.tight_layout()\n",
    "num = 0\n",
    "for i in range(5):\n",
    "    for j in range(10):\n",
    "        axes[i, j].plot(pd.Series(np.array(action_select)[:, num]).rolling(10).mean())\n",
    "        axes[i, j].set_title(f'var: {num+1}')\n",
    "        if i != 4: axes[i, j].set_xticks([]) \n",
    "        num += 1\n",
    "        \n",
    "\n",
    "fig, axes = plt.subplots(5, 10, sharex=False, sharey=True)\n",
    "# plt.subplots_adjust(\n",
    "# top=0.965,\n",
    "# bottom=0.09,\n",
    "# left=0.03,\n",
    "# right=0.83,\n",
    "# hspace=0.52,\n",
    "# wspace=0.18)\n",
    "# fig.tight_layout()\n",
    "num = 50\n",
    "for i in range(5):\n",
    "    for j in range(10):\n",
    "        axes[i, j].plot(pd.Series(np.array(action_select)[:, num]).rolling(10).mean())\n",
    "        axes[i, j].set_title(f'var: {num+1}')\n",
    "        if i != 4: axes[i, j].set_xticks([]) \n",
    "        num += 1"
   ]
  },
  {
   "cell_type": "code",
   "execution_count": 25,
   "id": "e93440b6",
   "metadata": {
    "ExecuteTime": {
     "end_time": "2021-11-07T10:04:20.715145Z",
     "start_time": "2021-11-07T10:04:20.638776Z"
    }
   },
   "outputs": [
    {
     "name": "stdout",
     "output_type": "stream",
     "text": [
      "{4, 37, 71, 72, 74, 11, 13, 15, 50, 83, 90, 93}\n",
      "[ 4 12 39 41 45 49 51 72]\n",
      "[ 4 12 39 45 49 51 72]\n",
      "[ 5 38 72 73 75 12 14 16 51 84 91 94]\n"
     ]
    }
   ],
   "source": [
    "tmp = sorted(dictionary.items(), key=lambda x: x[1])\n",
    "s = set(range(n))\n",
    "for item in tmp[:5]:\n",
    "    s = s & set(item[0])\n",
    "print(s)\n",
    "\n",
    "with torch.no_grad():    \n",
    "    obs = np.concatenate((x_train, y_train[:, np.newaxis]), axis=1)\n",
    "    actions, log_probs, _ = actor(obs)\n",
    "        \n",
    "# print(np.where(np.array(action_select[-1]) > 0.95)[0]+1)        \n",
    "print(np.where(np.array(action_select[-10:]).mean(axis=0) > 0.8)[0]+1)\n",
    "print((torch.where(actions.mean(dim=0) > 0.8)[0] + 1).numpy())\n",
    "print(np.array(list(s)) + 1)\n",
    "# print('top 8')\n",
    "# print(torch.topk(torch.tensor(action_select[-10:]).mean(axis=0), k=num_support))\n",
    "# print(torch.topk(actions.mean(dim=0), k=num_support))"
   ]
  },
  {
   "cell_type": "markdown",
   "id": "37dc8e1d",
   "metadata": {},
   "source": [
    "# validation"
   ]
  },
  {
   "cell_type": "code",
   "execution_count": 3,
   "id": "5c1206d3",
   "metadata": {
    "ExecuteTime": {
     "end_time": "2021-11-06T08:38:29.756487Z",
     "start_time": "2021-11-06T08:38:29.749074Z"
    }
   },
   "outputs": [],
   "source": [
    "x_train, x_test, y_train, y_test = train_test_split(X, Y, test_size=0.3, random_state=3)"
   ]
  },
  {
   "cell_type": "code",
   "execution_count": 4,
   "id": "ce1ec192",
   "metadata": {
    "ExecuteTime": {
     "end_time": "2021-11-06T08:38:30.176942Z",
     "start_time": "2021-11-06T08:38:30.171592Z"
    }
   },
   "outputs": [
    {
     "data": {
      "text/plain": [
       "(1395, 101)"
      ]
     },
     "execution_count": 4,
     "metadata": {},
     "output_type": "execute_result"
    }
   ],
   "source": [
    "x_train.shape"
   ]
  },
  {
   "cell_type": "code",
   "execution_count": 5,
   "id": "7b803a45",
   "metadata": {
    "ExecuteTime": {
     "end_time": "2021-11-06T08:38:31.843096Z",
     "start_time": "2021-11-06T08:38:31.832144Z"
    }
   },
   "outputs": [],
   "source": [
    "scaler = StandardScaler()\n",
    "x_train = scaler.fit_transform(x_train)\n",
    "x_test = scaler.transform(x_test)"
   ]
  },
  {
   "cell_type": "code",
   "execution_count": 7,
   "id": "8e05b484",
   "metadata": {
    "ExecuteTime": {
     "end_time": "2021-11-06T08:39:19.479290Z",
     "start_time": "2021-11-06T08:39:19.472122Z"
    }
   },
   "outputs": [],
   "source": [
    "scaler = StandardScaler()\n",
    "y_train = scaler.fit_transform(y_train[:, np.newaxis]).ravel()\n",
    "y_test = scaler.transform(y_test[:, np.newaxis]).ravel()"
   ]
  },
  {
   "cell_type": "code",
   "execution_count": 86,
   "id": "e47de106",
   "metadata": {
    "ExecuteTime": {
     "end_time": "2021-11-07T08:17:13.867140Z",
     "start_time": "2021-11-07T08:17:10.152517Z"
    }
   },
   "outputs": [
    {
     "name": "stdout",
     "output_type": "stream",
     "text": [
      "lasso\n",
      "[ 4 12 39 45 49 51 72 73 75]\n",
      "[ 3  4  8 12 14 25 26 35 39 45 49 51 69 72 73 75 87 91 94]\n",
      "random forest\n",
      "[ 4 44 45 50 51 63 93]\n"
     ]
    }
   ],
   "source": [
    "#======================== regression ====================================\n",
    "print('lasso')\n",
    "lasso_bic = LassoLarsIC(criterion='bic', fit_intercept=False, normalize=False)\n",
    "lasso_bic.fit(x_train, y_train)\n",
    "print(np.where(lasso_bic.coef_ != 0)[0] + 1)\n",
    "lasso_aic = LassoLarsIC(criterion='aic', fit_intercept=False, normalize=False)\n",
    "lasso_aic.fit(x_train, y_train)\n",
    "print(np.where(lasso_aic.coef_ != 0)[0] + 1)\n",
    "# lasso_cv = LassoCV(cv=5, fit_intercept=False, normalize=False)\n",
    "# lasso_cv.fit(X, Y)\n",
    "# print(np.where(lasso_cv.coef_ != 0)[0] + 1)\n",
    "print('random forest')\n",
    "regr = RandomForestRegressor(max_depth=5)\n",
    "regr.fit(x_train, y_train)\n",
    "sfm = SelectFromModel(regr, prefit=True)\n",
    "print(np.where(sfm.get_support())[0] + 1)"
   ]
  },
  {
   "cell_type": "code",
   "execution_count": 68,
   "id": "76e67375",
   "metadata": {
    "ExecuteTime": {
     "end_time": "2021-11-07T07:55:06.661702Z",
     "start_time": "2021-11-07T07:55:05.945194Z"
    }
   },
   "outputs": [
    {
     "data": {
      "text/plain": [
       "(0.3580319833312646, 0.7421780925049977, 0.6007008389637728)"
      ]
     },
     "execution_count": 68,
     "metadata": {},
     "output_type": "execute_result"
    }
   ],
   "source": [
    "reg = SVR()\n",
    "reg.fit(x_train, y_train)\n",
    "\n",
    "# x_test_num = x_test[:, :15]\n",
    "# x_test_cat = x_test[:, 15:]\n",
    "# x_test_num = scaler.transform(x_test_num)\n",
    "# x_test = np.concatenate((x_test_num, x_test_cat), axis=1)\n",
    "# x_test = scaler.transform(x_test)\n",
    "np.mean(np.abs(y_test - reg.predict(x_test))), reg.score(x_train, y_train), reg.score(x_test, y_test)"
   ]
  },
  {
   "cell_type": "code",
   "execution_count": 89,
   "id": "457fb023",
   "metadata": {
    "ExecuteTime": {
     "end_time": "2021-11-07T08:17:32.545759Z",
     "start_time": "2021-11-07T08:17:32.230763Z"
    }
   },
   "outputs": [
    {
     "data": {
      "text/plain": [
       "(0.3703795475231797, 0.5751154001753617)"
      ]
     },
     "execution_count": 89,
     "metadata": {},
     "output_type": "execute_result"
    }
   ],
   "source": [
    "idx = (torch.where(actions.mean(dim=0) > 0.7)[0]).numpy()\n",
    "'''\n",
    "np.where(np.array(action_select[-10:]).mean(axis=0) > 0.9)[0]\n",
    "(torch.where(actions.mean(dim=0) > 0.9)[0]).numpy()\n",
    "np.array(list(s))\n",
    "np.where(lasso_bic.coef_ != 0)[0]\n",
    "np.where(lasso_aic.coef_ != 0)[0]\n",
    "np.where(sfm.get_support())[0]\n",
    "\n",
    "'''\n",
    "\n",
    "x_train_sel = x_train[:, idx]\n",
    "x_test_sel = x_test[:, idx]\n",
    "\n",
    "\n",
    "reg_sel = SVR()\n",
    "reg_sel.fit(x_train_sel, y_train)\n",
    "np.mean(np.abs(y_test - reg_sel.predict(x_test_sel))), reg_sel.score(x_test_sel, y_test)"
   ]
  },
  {
   "cell_type": "code",
   "execution_count": 29,
   "id": "7122c406",
   "metadata": {
    "ExecuteTime": {
     "end_time": "2021-11-07T10:05:43.403034Z",
     "start_time": "2021-11-07T10:05:37.457213Z"
    }
   },
   "outputs": [
    {
     "data": {
      "text/html": [
       "<div>\n",
       "<style scoped>\n",
       "    .dataframe tbody tr th:only-of-type {\n",
       "        vertical-align: middle;\n",
       "    }\n",
       "\n",
       "    .dataframe tbody tr th {\n",
       "        vertical-align: top;\n",
       "    }\n",
       "\n",
       "    .dataframe thead th {\n",
       "        text-align: right;\n",
       "    }\n",
       "</style>\n",
       "<table border=\"1\" class=\"dataframe\">\n",
       "  <thead>\n",
       "    <tr style=\"text-align: right;\">\n",
       "      <th></th>\n",
       "      <th>acp1</th>\n",
       "      <th>acp2</th>\n",
       "      <th>acp3</th>\n",
       "      <th>aic</th>\n",
       "      <th>bic</th>\n",
       "      <th>rf</th>\n",
       "      <th>baseline</th>\n",
       "    </tr>\n",
       "  </thead>\n",
       "  <tbody>\n",
       "    <tr>\n",
       "      <th>num</th>\n",
       "      <td>8.000000</td>\n",
       "      <td>7.000000</td>\n",
       "      <td>12.000000</td>\n",
       "      <td>18.000000</td>\n",
       "      <td>13.000000</td>\n",
       "      <td>9.000000</td>\n",
       "      <td>101.000000</td>\n",
       "    </tr>\n",
       "    <tr>\n",
       "      <th>MAE</th>\n",
       "      <td>0.380509</td>\n",
       "      <td>0.380417</td>\n",
       "      <td>0.388851</td>\n",
       "      <td>0.383849</td>\n",
       "      <td>0.390372</td>\n",
       "      <td>0.382299</td>\n",
       "      <td>0.386694</td>\n",
       "    </tr>\n",
       "    <tr>\n",
       "      <th>R2</th>\n",
       "      <td>0.620565</td>\n",
       "      <td>0.623210</td>\n",
       "      <td>0.586355</td>\n",
       "      <td>0.589210</td>\n",
       "      <td>0.575215</td>\n",
       "      <td>0.598337</td>\n",
       "      <td>0.599102</td>\n",
       "    </tr>\n",
       "  </tbody>\n",
       "</table>\n",
       "</div>"
      ],
      "text/plain": [
       "         acp1      acp2       acp3        aic        bic        rf    baseline\n",
       "num  8.000000  7.000000  12.000000  18.000000  13.000000  9.000000  101.000000\n",
       "MAE  0.380509  0.380417   0.388851   0.383849   0.390372  0.382299    0.386694\n",
       "R2   0.620565  0.623210   0.586355   0.589210   0.575215  0.598337    0.599102"
      ]
     },
     "execution_count": 29,
     "metadata": {},
     "output_type": "execute_result"
    }
   ],
   "source": [
    "tmp = sorted(dictionary.items(), key=lambda x: x[1])\n",
    "s = set(range(n))\n",
    "for item in tmp[:5]:\n",
    "    s = s & set(item[0])\n",
    "\n",
    "\n",
    "with torch.no_grad():  \n",
    "    obs = np.concatenate((x_train, y_train[:, np.newaxis]), axis=1)\n",
    "    actions, log_probs, _ = actor(obs)\n",
    "        \n",
    "      \n",
    "idx1 = np.where(np.array(action_select[-10:]).mean(axis=0) > 0.8)[0]\n",
    "idx2 = (torch.where(actions.mean(dim=0) > 0.8)[0]).numpy()\n",
    "idx3 = np.array(list(s))\n",
    "\n",
    "\n",
    "def compare_methods(x_train, y_train):\n",
    "    # print('lasso')\n",
    "    lasso_bic = LassoLarsIC(criterion='bic', fit_intercept=False, normalize=False)\n",
    "    lasso_bic.fit(x_train, y_train)\n",
    "    # print(np.where(lasso_bic.coef_ != 0)[0] + 1)\n",
    "    lasso_aic = LassoLarsIC(criterion='aic', fit_intercept=False, normalize=False)\n",
    "    lasso_aic.fit(x_train, y_train)\n",
    "    # print(np.where(lasso_aic.coef_ != 0)[0] + 1)\n",
    "    # print('random forest')\n",
    "    regr = RandomForestRegressor(max_depth=5)\n",
    "    regr.fit(x_train, y_train)\n",
    "    sfm = SelectFromModel(regr, prefit=True)\n",
    "    # print(np.where(sfm.get_support())[0] + 1)\n",
    "    \n",
    "    return np.where(lasso_aic.coef_ != 0)[0], np.where(lasso_bic.coef_ != 0)[0], np.where(sfm.get_support())[0]\n",
    "\n",
    "\n",
    "idx_aic, idx_bic, idx_rf = compare_methods(x_train, y_train)\n",
    "\n",
    "\n",
    "\n",
    "def metrics(idx, x_train, y_train, x_test, y_test):\n",
    "    idx = idx\n",
    "\n",
    "    x_train_sel = x_train[:, idx]\n",
    "    x_test_sel = x_test[:, idx]\n",
    "    \n",
    "    \n",
    "    reg = SVR()\n",
    "    reg.fit(x_train_sel, y_train)\n",
    "    \n",
    "    return len(idx), np.mean(np.abs(y_test - reg.predict(x_test_sel))), reg.score(x_test_sel, y_test)\n",
    "\n",
    "\n",
    "result = np.zeros((7, 3))\n",
    "\n",
    "for i, idx in enumerate([idx1, idx2, idx3, idx_aic, idx_bic, idx_rf, range(n)]):\n",
    "    result[i] = metrics(idx, x_train, y_train, x_test, y_test)\n",
    "\n",
    "\n",
    "result = pd.DataFrame(result.T)\n",
    "result.index = ['num', 'MAE', 'R2']\n",
    "result.columns = ['acp1', 'acp2', 'acp3', 'aic', 'bic', 'rf', 'baseline']\n",
    "result"
   ]
  },
  {
   "cell_type": "markdown",
   "id": "6ccd98e3",
   "metadata": {},
   "source": [
    "# run different seeds"
   ]
  },
  {
   "cell_type": "markdown",
   "id": "0159b877",
   "metadata": {},
   "source": [
    "seed = 2, actor(n+1) steps250, threshold0.7, k5\n",
    "seed = 3, actor(n+1) steps250, threshold0.8, k5     # 不错\n",
    "seed = 5, actor(n+1) steps500, threshold0.95, k10\n",
    "seed = 6, actor(n+1) steps500, threshold0.85, k10\n",
    "seed = 7, actor(n+1)bic steps500, threshold0.95, k5     # 很好\n",
    "seed = 8, actor(n+1)bic steps500, threshold0.8, k5     # 很好"
   ]
  },
  {
   "cell_type": "code",
   "execution_count": 1,
   "id": "1649edb9",
   "metadata": {
    "ExecuteTime": {
     "end_time": "2021-11-07T10:13:20.135515Z",
     "start_time": "2021-11-07T10:13:18.608192Z"
    }
   },
   "outputs": [],
   "source": [
    "import numpy as np\n",
    "import matplotlib.pyplot as plt\n",
    "import pandas as pd\n",
    "import time\n",
    "import datetime\n",
    "import random\n",
    "import copy\n",
    "from tqdm import tqdm\n",
    "\n",
    "# import sklearn\n",
    "from sklearn.linear_model import LinearRegression, LassoLarsIC, LassoCV\n",
    "from sklearn.neural_network import MLPRegressor\n",
    "from sklearn.ensemble import RandomForestRegressor\n",
    "from sklearn.model_selection import train_test_split, StratifiedShuffleSplit\n",
    "from sklearn.metrics import confusion_matrix  #, f1_score\n",
    "from sklearn.feature_selection import SelectFromModel\n",
    "from sklearn.feature_selection import SequentialFeatureSelector\n",
    "from sklearn.preprocessing import OneHotEncoder\n",
    "from sklearn.preprocessing import StandardScaler\n",
    "from sklearn.svm import SVR\n",
    "\n",
    "from scipy.stats import multivariate_normal\n",
    "\n",
    "import torch\n",
    "from torch import nn\n",
    "from torch import optim\n",
    "from torch.nn import functional as F\n",
    "from torch.distributions import Bernoulli\n",
    "# from torchsummary import summary\n",
    "\n",
    "import multiprocessing as mp\n",
    "\n",
    "import os\n",
    "import sys\n",
    "\n",
    "dir_name = './real_data'\n",
    "paths = os.listdir('./real_data')\n",
    "\n",
    "automobile_p, spam_p, crime_norm_p, tem_p, crime_p = [os.path.join(dir_name, path) for path in paths]\n",
    "\n",
    "dat = pd.read_csv(crime_p)\n",
    "\n",
    "# ====================== data preprocessing ==========================\n",
    "X = dat.iloc[:, :-1].to_numpy()\n",
    "Y = dat.iloc[:, -1].to_numpy()\n",
    "# X.shape, Y.shape\n",
    "\n",
    "## ===================================================================== -->\n",
    "def get_data(x, y, batch_size=32):\n",
    "#     x = StandardScaler(with_mean=True, with_std=True).fit_transform(x) -->\n",
    "    sample_size = x.shape[0]\n",
    "    idx = np.random.choice(range(sample_size), batch_size, replace=False)\n",
    "    return x[idx, :], y[idx, np.newaxis]\n",
    "\n",
    "\n",
    "\n",
    "class Actor(nn.Module):\n",
    "    def __init__(self, obs_dim, action_dim):\n",
    "        '''\n",
    "        obs_dim: dim_x or (dim_x + dim_y)\n",
    "        action_dim: dim_x\n",
    "        '''\n",
    "        super(Actor, self).__init__()\n",
    "        \n",
    "        \n",
    "        self.fc1 = nn.Linear(in_features=obs_dim, out_features=256)\n",
    "        self.fc2 = nn.Linear(256, action_dim)\n",
    "        \n",
    "    def forward(self, obs):\n",
    "        obs = torch.tensor(obs, dtype=torch.float)\n",
    "        logits = F.relu(self.fc1(obs))\n",
    "        logits = self.fc2(logits)\n",
    "        \n",
    "        m = Bernoulli(logits=logits)\n",
    "        \n",
    "        actions = m.sample()\n",
    "        log_probs = m.log_prob(actions)\n",
    "        entropy = m.entropy()\n",
    "        \n",
    "        return actions, log_probs, entropy\n",
    "\n",
    "\n",
    "\n",
    "\n",
    "def compute_reward(X_train, Y_train, X_test, Y_test, actions, num_iter=500, lr=1e-3, batch_size='auto', dictionary=dict()):\n",
    "    reward_list = []\n",
    "    for action in actions.detach().numpy():\n",
    "        \n",
    "        idx = np.where(action == 1)[0]\n",
    "        \n",
    "        if tuple(idx) in dictionary:\n",
    "            reward_list.append(dictionary[tuple(idx)])\n",
    "        else:\n",
    "            X_select = X_train[:, idx]        \n",
    "#             regressor = MLPRegressor(hidden_layer_sizes=(256,), random_state=1, learning_rate='adaptive', batch_size=batch_size,\n",
    "#                                       learning_rate_init=lr, max_iter=num_iter, tol=1e-3, alpha=0.01)\n",
    "            regressor = LassoLarsIC(criterion='bic')\n",
    "            regressor.fit(X_select, Y_train)\n",
    "            X_select = X_test[:, idx] \n",
    "            score = regressor.score(X_select, Y_test)\n",
    "            # mse = np.mean((Y_test - regressor.predict(X_select))**2)\n",
    "            dictionary[tuple(idx)] = 1 - score\n",
    "            reward_list.append(1 - score)\n",
    "        \n",
    "    return np.array(reward_list)\n",
    "\n",
    "\n",
    "def compare_methods(x_train, y_train):\n",
    "    # print('lasso')\n",
    "    lasso_bic = LassoLarsIC(criterion='bic', fit_intercept=False, normalize=False)\n",
    "    lasso_bic.fit(x_train, y_train)\n",
    "    # print(np.where(lasso_bic.coef_ != 0)[0] + 1)\n",
    "    lasso_aic = LassoLarsIC(criterion='aic', fit_intercept=False, normalize=False)\n",
    "    lasso_aic.fit(x_train, y_train)\n",
    "    # print(np.where(lasso_aic.coef_ != 0)[0] + 1)\n",
    "    # print('random forest')\n",
    "    regr = RandomForestRegressor(max_depth=5)\n",
    "    regr.fit(x_train, y_train)\n",
    "    sfm = SelectFromModel(regr, prefit=True)\n",
    "    # print(np.where(sfm.get_support())[0] + 1)\n",
    "    \n",
    "    return np.where(lasso_aic.coef_ != 0)[0], np.where(lasso_bic.coef_ != 0)[0], np.where(sfm.get_support())[0]\n",
    "\n",
    "\n",
    "def metrics(idx, x_train, y_train, x_test, y_test):\n",
    "    idx = idx\n",
    "\n",
    "    x_train_sel = x_train[:, idx]\n",
    "    x_test_sel = x_test[:, idx]\n",
    "    \n",
    "    \n",
    "    reg = SVR()\n",
    "    reg.fit(x_train_sel, y_train)\n",
    "    \n",
    "    return len(idx), np.mean(np.abs(y_test - reg.predict(x_test_sel))), reg.score(x_test_sel, y_test)\n",
    "\n",
    "# =======================================================================\n",
    "m = 1395\n",
    "n = 101\n",
    "\n",
    "def run(seed):\n",
    "    start = time.time()\n",
    "    print(f'random seed: {seed} is running')\n",
    "    np.random.seed(seed)\n",
    "    torch.manual_seed(seed)\n",
    "    \n",
    "    x_train, x_test, y_train, y_test = train_test_split(X, Y, test_size=0.3, random_state=seed)\n",
    "\n",
    "\n",
    "    scaler_x = StandardScaler()\n",
    "    x_train = scaler_x.fit_transform(x_train)\n",
    "    x_test = scaler_x.transform(x_test)\n",
    "\n",
    "    scaler_y = StandardScaler()\n",
    "    y_train = scaler_y.fit_transform(y_train[:, np.newaxis]).ravel()\n",
    "    y_test = scaler_y.transform(y_test[:, np.newaxis]).ravel()\n",
    "\n",
    "\n",
    "\n",
    "    actor = Actor(obs_dim=n+1, action_dim=n)\n",
    "    actor_optimizer = optim.Adam(actor.parameters(), lr=1e-3)\n",
    "\n",
    "\n",
    "    action_select = []\n",
    "    dictionary = dict()\n",
    "    r_list = []\n",
    "\n",
    "    r_baseline = torch.tensor(0)\n",
    "\n",
    "\n",
    "    x_tt, x_val, y_tt, y_val = train_test_split(x_train, y_train, test_size=0.3, random_state=seed)\n",
    "\n",
    "\n",
    "    for step in range(500):\n",
    "#         print('step: ', step)\n",
    "\n",
    "        X_train, Y_train = get_data(x_tt, y_tt, batch_size=64)\n",
    "\n",
    "        obs = np.concatenate((X_train, Y_train), axis=1) \n",
    "        actions, log_probs, entropy = actor(obs)\n",
    "        action_select.append(actions.detach().numpy().mean(axis=0))\n",
    "\n",
    "        # r_baseline = critic(X_train)\n",
    "        # r_baseline = r_baseline.squeeze()\n",
    "\n",
    "\n",
    "        rewards = compute_reward(x_tt, y_tt, x_val, y_val, actions, num_iter=800, lr=1e-2, batch_size=64, dictionary=dictionary)\n",
    "        r_list.append(rewards.mean())\n",
    "#         print(f'average reward: {rewards.mean()}')\n",
    "        rewards = torch.tensor(rewards, dtype=torch.float32)\n",
    "\n",
    "        r_baseline = 0.95 * r_baseline + 0.05 * rewards.mean()\n",
    "\n",
    "        # update actor\n",
    "        actor_loss =  ((rewards - r_baseline) * log_probs.sum(dim=-1)).mean()\n",
    "        # actor_loss =  (rewards * log_probs.sum(dim=-1)).mean()\n",
    "        actor_optimizer.zero_grad()\n",
    "        actor_loss.backward()\n",
    "        actor_optimizer.step()\n",
    "        # print(f'actor loss: {actor_loss.item()}')\n",
    "\n",
    "        # actor_loss =  (rewards * log_probs.sum(dim=-1)).mean()\n",
    "        # actor_optimizer.zero_grad()\n",
    "        # actor_loss.backward()\n",
    "        # actor_optimizer.step()\n",
    "        # print(f'actor loss: {actor_loss.item()}\\n')\n",
    "\n",
    "        # update critic\n",
    "        # critic_loss = F.mse_loss(r_baseline, rewards)\n",
    "        # critic_optimizer.zero_grad()\n",
    "        # critic_loss.backward()\n",
    "        # critic_optimizer.step()\n",
    "        # print(f'critic loss: {critic_loss.item()}\\n')\n",
    "\n",
    "    #     if step > 6:\n",
    "    #         if (abs(r_list[-1] - r_list[-2]) < 1e-3) & (abs(r_list[-2] - r_list[-3]) < 1e-3) & (abs(r_list[-3] - r_list[-4]) < 1e-3) & (abs(r_list[-4] - r_list[-5]) < 1e-3):\n",
    "    #             print(f'converge at step {step}')\n",
    "    #             break\n",
    "    \n",
    "    \n",
    "    action_select = np.array(action_select)\n",
    "    \n",
    "    tmp = sorted(dictionary.items(), key=lambda x: x[1])\n",
    "    s = set(range(n))\n",
    "    for item in tmp[:5]:\n",
    "        s = s & set(item[0])\n",
    "\n",
    "\n",
    "    with torch.no_grad():  \n",
    "        obs = np.concatenate((x_train, y_train[:, np.newaxis]), axis=1)\n",
    "        actions, log_probs, _ = actor(obs)\n",
    "\n",
    "\n",
    "    idx1 = np.where(np.array(action_select[-10:]).mean(axis=0) > 0.8)[0]\n",
    "    idx2 = (torch.where(actions.mean(dim=0) > 0.8)[0]).numpy()\n",
    "    idx3 = np.array(list(s))\n",
    "    \n",
    "    idx_aic, idx_bic, idx_rf = compare_methods(x_train, y_train)\n",
    "    \n",
    "    result = np.zeros((7, 3))\n",
    "\n",
    "    for i, idx in enumerate([idx1, idx2, idx3, idx_aic, idx_bic, idx_rf, range(n)]):\n",
    "        result[i] = metrics(idx, x_train, y_train, x_test, y_test)\n",
    "        \n",
    "    end = time.time()\n",
    "    print(f'rd: {seed} take {datetime.timedelta(seconds = end - start)}')\n",
    "    \n",
    "    return result\n"
   ]
  },
  {
   "cell_type": "code",
   "execution_count": 2,
   "id": "4bd12e9f",
   "metadata": {
    "ExecuteTime": {
     "end_time": "2021-11-07T11:49:15.277545Z",
     "start_time": "2021-11-07T10:13:37.778581Z"
    }
   },
   "outputs": [
    {
     "name": "stdout",
     "output_type": "stream",
     "text": [
      "random seed: 2 is runningrandom seed: 0 is runningrandom seed: 1 is runningrandom seed: 3 is running\n",
      "\n",
      "random seed: 4 is running\n",
      "random seed: 5 is running\n",
      "random seed: 6 is runningrandom seed: 7 is running\n",
      "\n",
      "\n",
      "\n",
      "random seed: 8 is running\n",
      "random seed: 9 is running\n",
      "rd: 3 take 1:30:03.745497\n",
      "rd: 2 take 1:31:26.718646\n",
      "rd: 7 take 1:33:02.357929\n",
      "rd: 8 take 1:34:36.360407\n",
      "rd: 9 take 1:34:54.842836\n",
      "rd: 0 take 1:35:11.354473\n",
      "rd: 6 take 1:35:11.571941\n",
      "rd: 4 take 1:35:18.021250\n",
      "rd: 5 take 1:35:18.126675\n",
      "rd: 1 take 1:35:37.253206\n",
      "1:35:37.488993\n"
     ]
    }
   ],
   "source": [
    "if __name__ == '__main__':   # 不加这个multiprocess会报错...\n",
    "    # results = []\n",
    "    # for sd in tqdm(range(20)):\n",
    "    #     results.append(run(sd))\n",
    "\n",
    "    # print(\"CPU的核数为：{}\".format(mp.cpu_count()))\n",
    "    start = time.time()\n",
    "    pool = mp.Pool(10)\n",
    "    dats = pool.map(run, range(10))\n",
    "    pool.close() \n",
    "    end = time.time()\n",
    "    print(datetime.timedelta(seconds = end - start))"
   ]
  },
  {
   "cell_type": "code",
   "execution_count": null,
   "id": "28ca42f5",
   "metadata": {},
   "outputs": [],
   "source": [
    "start = time.time()\n",
    "results = []\n",
    "for sd in tqdm(range(10)):\n",
    "    results.append(run(sd))\n",
    "end = time.time()\n",
    "print(datetime.timedelta(seconds = end - start))"
   ]
  },
  {
   "cell_type": "code",
   "execution_count": 3,
   "id": "abea6f8a",
   "metadata": {
    "ExecuteTime": {
     "end_time": "2021-11-07T11:51:08.846963Z",
     "start_time": "2021-11-07T11:51:08.835991Z"
    }
   },
   "outputs": [
    {
     "data": {
      "text/plain": [
       "(10, 7, 3)"
      ]
     },
     "execution_count": 3,
     "metadata": {},
     "output_type": "execute_result"
    }
   ],
   "source": [
    "dats = np.array([dat for dat in dats])"
   ]
  },
  {
   "cell_type": "code",
   "execution_count": 8,
   "id": "a1488db1",
   "metadata": {
    "ExecuteTime": {
     "end_time": "2021-11-07T11:51:55.390092Z",
     "start_time": "2021-11-07T11:51:55.383251Z"
    }
   },
   "outputs": [
    {
     "data": {
      "text/plain": [
       "array([[  8.2       ,   0.38537167,   0.60316833],\n",
       "       [  8.3       ,   0.38499403,   0.60467304],\n",
       "       [  9.6       ,   0.392263  ,   0.59030479],\n",
       "       [ 19.2       ,   0.38508502,   0.59141225],\n",
       "       [  9.2       ,   0.38657099,   0.59193734],\n",
       "       [  7.9       ,   0.39124169,   0.58484841],\n",
       "       [101.        ,   0.38683931,   0.58764436]])"
      ]
     },
     "execution_count": 8,
     "metadata": {},
     "output_type": "execute_result"
    }
   ],
   "source": [
    "dats.mean(axis=0)"
   ]
  },
  {
   "cell_type": "code",
   "execution_count": 9,
   "id": "a750af99",
   "metadata": {
    "ExecuteTime": {
     "end_time": "2021-11-07T11:51:59.296230Z",
     "start_time": "2021-11-07T11:51:59.289090Z"
    }
   },
   "outputs": [
    {
     "data": {
      "text/plain": [
       "array([[3.19393558e+01, 4.47630071e-03, 1.69335756e-02],\n",
       "       [3.18331107e+01, 6.22769330e-03, 1.76769284e-02],\n",
       "       [3.26840159e+01, 4.96379165e-03, 7.93812722e-03],\n",
       "       [3.18023231e+01, 7.32023848e-03, 8.55918593e-03],\n",
       "       [3.14136328e+01, 7.64483990e-03, 1.32702363e-02],\n",
       "       [3.23053038e+01, 4.43874588e-03, 1.22316118e-02],\n",
       "       [3.15251762e+01, 7.58796270e-03, 1.50653358e-02],\n",
       "       [3.17792128e+01, 9.22316628e-03, 1.19157456e-02],\n",
       "       [3.16923991e+01, 4.06033770e-03, 1.65105839e-02],\n",
       "       [3.25682956e+01, 1.20649597e-02, 1.77169895e-02]])"
      ]
     },
     "execution_count": 9,
     "metadata": {},
     "output_type": "execute_result"
    }
   ],
   "source": [
    "dats.std(axis=1)"
   ]
  },
  {
   "cell_type": "code",
   "execution_count": 11,
   "id": "bb2be9ea",
   "metadata": {
    "ExecuteTime": {
     "end_time": "2021-11-07T11:52:40.608474Z",
     "start_time": "2021-11-07T11:52:40.602473Z"
    }
   },
   "outputs": [
    {
     "data": {
      "text/plain": [
       "array([[  7.        ,   0.37566623,   0.60963945],\n",
       "       [  7.        ,   0.37566623,   0.60963945],\n",
       "       [ 11.        ,   0.37383792,   0.59404301],\n",
       "       [ 17.        ,   0.37584676,   0.5769175 ],\n",
       "       [  9.        ,   0.37432485,   0.58984233],\n",
       "       [ 10.        ,   0.38244464,   0.5794743 ],\n",
       "       [101.        ,   0.3866316 ,   0.55908179]])"
      ]
     },
     "execution_count": 11,
     "metadata": {},
     "output_type": "execute_result"
    }
   ],
   "source": [
    "dats[0]"
   ]
  },
  {
   "cell_type": "code",
   "execution_count": 12,
   "id": "c15f7dc1",
   "metadata": {
    "ExecuteTime": {
     "end_time": "2021-11-07T11:52:51.431419Z",
     "start_time": "2021-11-07T11:52:51.425449Z"
    }
   },
   "outputs": [
    {
     "data": {
      "text/plain": [
       "array([[ 10.        ,   0.38589573,   0.61926533],\n",
       "       [ 10.        ,   0.38589573,   0.61926533],\n",
       "       [ 12.        ,   0.38320854,   0.60965128],\n",
       "       [ 20.        ,   0.38644614,   0.5942759 ],\n",
       "       [  7.        ,   0.39854488,   0.58341295],\n",
       "       [  6.        ,   0.40029533,   0.58110335],\n",
       "       [101.        ,   0.39028935,   0.57268741]])"
      ]
     },
     "execution_count": 12,
     "metadata": {},
     "output_type": "execute_result"
    }
   ],
   "source": [
    "dats[1]"
   ]
  },
  {
   "cell_type": "code",
   "execution_count": 13,
   "id": "498a3809",
   "metadata": {
    "ExecuteTime": {
     "end_time": "2021-11-07T11:52:58.069073Z",
     "start_time": "2021-11-07T11:52:58.062239Z"
    }
   },
   "outputs": [
    {
     "data": {
      "text/plain": [
       "array([[  6.        ,   0.39816305,   0.58160486],\n",
       "       [  7.        ,   0.39036766,   0.59777754],\n",
       "       [  5.        ,   0.40342111,   0.57749166],\n",
       "       [ 18.        ,   0.38810541,   0.60001483],\n",
       "       [  6.        ,   0.39784019,   0.58327403],\n",
       "       [  8.        ,   0.3925766 ,   0.59289902],\n",
       "       [101.        ,   0.39825729,   0.58583616]])"
      ]
     },
     "execution_count": 13,
     "metadata": {},
     "output_type": "execute_result"
    }
   ],
   "source": [
    "dats[2]"
   ]
  },
  {
   "cell_type": "code",
   "execution_count": 14,
   "id": "57ae174d",
   "metadata": {
    "ExecuteTime": {
     "end_time": "2021-11-07T11:53:03.680677Z",
     "start_time": "2021-11-07T11:53:03.674789Z"
    }
   },
   "outputs": [
    {
     "data": {
      "text/plain": [
       "array([[  9.        ,   0.36011383,   0.60816914],\n",
       "       [ 10.        ,   0.36422426,   0.60439852],\n",
       "       [  9.        ,   0.37256946,   0.60547756],\n",
       "       [ 19.        ,   0.36568451,   0.59004327],\n",
       "       [  9.        ,   0.36367183,   0.59753817],\n",
       "       [  8.        ,   0.38105791,   0.58241762],\n",
       "       [101.        ,   0.35803198,   0.60070084]])"
      ]
     },
     "execution_count": 14,
     "metadata": {},
     "output_type": "execute_result"
    }
   ],
   "source": [
    "dats[3]"
   ]
  },
  {
   "cell_type": "code",
   "execution_count": 15,
   "id": "b764a1ef",
   "metadata": {
    "ExecuteTime": {
     "end_time": "2021-11-07T11:53:09.603843Z",
     "start_time": "2021-11-07T11:53:09.597402Z"
    }
   },
   "outputs": [
    {
     "data": {
      "text/plain": [
       "array([[ 10.        ,   0.40018298,   0.58034131],\n",
       "       [ 10.        ,   0.40018298,   0.58034131],\n",
       "       [ 13.        ,   0.38199985,   0.60139626],\n",
       "       [ 20.        ,   0.38408527,   0.61294973],\n",
       "       [ 10.        ,   0.39069469,   0.59276864],\n",
       "       [  8.        ,   0.38730852,   0.59035355],\n",
       "       [101.        ,   0.38003266,   0.61559602]])"
      ]
     },
     "execution_count": 15,
     "metadata": {},
     "output_type": "execute_result"
    }
   ],
   "source": [
    "dats[4]"
   ]
  },
  {
   "cell_type": "code",
   "execution_count": 16,
   "id": "fd4378c5",
   "metadata": {
    "ExecuteTime": {
     "end_time": "2021-11-07T11:53:13.052551Z",
     "start_time": "2021-11-07T11:53:13.045978Z"
    }
   },
   "outputs": [
    {
     "data": {
      "text/plain": [
       "array([[  7.        ,   0.39442038,   0.6139697 ],\n",
       "       [  7.        ,   0.39442038,   0.6139697 ],\n",
       "       [  8.        ,   0.40102896,   0.60249498],\n",
       "       [ 17.        ,   0.39749167,   0.59684034],\n",
       "       [  9.        ,   0.38787289,   0.61829626],\n",
       "       [  7.        ,   0.40012218,   0.58068487],\n",
       "       [101.        ,   0.39077632,   0.59690514]])"
      ]
     },
     "execution_count": 16,
     "metadata": {},
     "output_type": "execute_result"
    }
   ],
   "source": [
    "dats[5]"
   ]
  },
  {
   "cell_type": "code",
   "execution_count": 17,
   "id": "c581c676",
   "metadata": {
    "ExecuteTime": {
     "end_time": "2021-11-07T11:53:16.169454Z",
     "start_time": "2021-11-07T11:53:16.163529Z"
    }
   },
   "outputs": [
    {
     "data": {
      "text/plain": [
       "array([[ 10.        ,   0.35213585,   0.61427977],\n",
       "       [ 10.        ,   0.35213585,   0.61427977],\n",
       "       [ 13.        ,   0.35320379,   0.61473913],\n",
       "       [ 26.        ,   0.35852743,   0.5941998 ],\n",
       "       [ 10.        ,   0.34982442,   0.6103478 ],\n",
       "       [  6.        ,   0.37393146,   0.57036879],\n",
       "       [101.        ,   0.35801389,   0.60249014]])"
      ]
     },
     "execution_count": 17,
     "metadata": {},
     "output_type": "execute_result"
    }
   ],
   "source": [
    "dats[6]"
   ]
  },
  {
   "cell_type": "code",
   "execution_count": 18,
   "id": "d6c2a936",
   "metadata": {
    "ExecuteTime": {
     "end_time": "2021-11-07T11:53:19.801311Z",
     "start_time": "2021-11-07T11:53:19.794838Z"
    }
   },
   "outputs": [
    {
     "data": {
      "text/plain": [
       "array([[  9.        ,   0.40613759,   0.5696748 ],\n",
       "       [  9.        ,   0.40613759,   0.5696748 ],\n",
       "       [  7.        ,   0.43521891,   0.54206367],\n",
       "       [ 19.        ,   0.41904439,   0.54674551],\n",
       "       [ 13.        ,   0.42129793,   0.53935085],\n",
       "       [  8.        ,   0.42029926,   0.5482316 ],\n",
       "       [101.        ,   0.41743819,   0.54352942]])"
      ]
     },
     "execution_count": 18,
     "metadata": {},
     "output_type": "execute_result"
    }
   ],
   "source": [
    "dats[7]"
   ]
  },
  {
   "cell_type": "code",
   "execution_count": 19,
   "id": "f0d5d446",
   "metadata": {
    "ExecuteTime": {
     "end_time": "2021-11-07T11:53:23.399706Z",
     "start_time": "2021-11-07T11:53:23.393154Z"
    }
   },
   "outputs": [
    {
     "data": {
      "text/plain": [
       "array([[  8.        ,   0.38050884,   0.62056518],\n",
       "       [  7.        ,   0.38041747,   0.62321026],\n",
       "       [ 12.        ,   0.38885064,   0.58635464],\n",
       "       [ 18.        ,   0.38384871,   0.58921014],\n",
       "       [ 13.        ,   0.39037245,   0.57521539],\n",
       "       [  8.        ,   0.3795624 ,   0.6053837 ],\n",
       "       [101.        ,   0.38669362,   0.59910209]])"
      ]
     },
     "execution_count": 19,
     "metadata": {},
     "output_type": "execute_result"
    }
   ],
   "source": [
    "dats[8]"
   ]
  },
  {
   "cell_type": "code",
   "execution_count": 20,
   "id": "f2d3c073",
   "metadata": {
    "ExecuteTime": {
     "end_time": "2021-11-07T11:53:28.662510Z",
     "start_time": "2021-11-07T11:53:28.656653Z"
    }
   },
   "outputs": [
    {
     "data": {
      "text/plain": [
       "array([[  6.        ,   0.40049219,   0.61417372],\n",
       "       [  6.        ,   0.40049219,   0.61417372],\n",
       "       [  6.        ,   0.42929081,   0.56933569],\n",
       "       [ 18.        ,   0.39176991,   0.61292544],\n",
       "       [  6.        ,   0.39126581,   0.62932696],\n",
       "       [ 10.        ,   0.39481856,   0.61756735],\n",
       "       [101.        ,   0.4022282 ,   0.6005146 ]])"
      ]
     },
     "execution_count": 20,
     "metadata": {},
     "output_type": "execute_result"
    }
   ],
   "source": [
    "dats[9]"
   ]
  },
  {
   "cell_type": "code",
   "execution_count": 23,
   "id": "a61c3429",
   "metadata": {
    "ExecuteTime": {
     "end_time": "2021-11-07T11:56:37.960154Z",
     "start_time": "2021-11-07T11:56:37.954958Z"
    }
   },
   "outputs": [
    {
     "data": {
      "text/plain": [
       "array([[  8.6       ,   0.3736464 ,   0.61306468],\n",
       "       [  8.8       ,   0.37446849,   0.61231055],\n",
       "       [ 10.6       ,   0.37676973,   0.60528119],\n",
       "       [ 19.8       ,   0.3767993 ,   0.59045536],\n",
       "       [  8.8       ,   0.37484777,   0.5998875 ],\n",
       "       [  7.4       ,   0.38757031,   0.57880979],\n",
       "       [101.        ,   0.37674863,   0.58637306]])"
      ]
     },
     "execution_count": 23,
     "metadata": {},
     "output_type": "execute_result"
    }
   ],
   "source": [
    "dats[[0,1,3,5,6], :, :].mean(axis=0)"
   ]
  },
  {
   "cell_type": "code",
   "execution_count": 25,
   "id": "d90afc86",
   "metadata": {
    "ExecuteTime": {
     "end_time": "2021-11-07T11:57:26.916447Z",
     "start_time": "2021-11-07T11:57:26.909214Z"
    }
   },
   "outputs": [
    {
     "data": {
      "text/plain": [
       "array([[1.356466  , 0.01569407, 0.00391004],\n",
       "       [1.46969385, 0.01505846, 0.00499469],\n",
       "       [1.8547237 , 0.01556637, 0.00696633],\n",
       "       [3.31058907, 0.01399673, 0.00711096],\n",
       "       [0.9797959 , 0.01721947, 0.01285407],\n",
       "       [1.49666295, 0.01071614, 0.004324  ],\n",
       "       [0.        , 0.01535645, 0.0173671 ]])"
      ]
     },
     "execution_count": 25,
     "metadata": {},
     "output_type": "execute_result"
    }
   ],
   "source": [
    "dats[[0,1,3,5,6], :, :].std(axis=0)"
   ]
  },
  {
   "cell_type": "code",
   "execution_count": 24,
   "id": "8e03bdcc",
   "metadata": {
    "ExecuteTime": {
     "end_time": "2021-11-07T11:57:01.700341Z",
     "start_time": "2021-11-07T11:57:01.692617Z"
    }
   },
   "outputs": [
    {
     "data": {
      "text/plain": [
       "array([[  8.4       ,   0.37772541,   0.61554389],\n",
       "       [  8.2       ,   0.37770713,   0.6160729 ],\n",
       "       [ 11.2       ,   0.38002597,   0.60145661],\n",
       "       [ 19.6       ,   0.38043214,   0.59028874],\n",
       "       [  9.6       ,   0.3801879 ,   0.59542295],\n",
       "       [  7.4       ,   0.3872712 ,   0.583403  ],\n",
       "       [101.        ,   0.38248096,   0.58605331]])"
      ]
     },
     "execution_count": 24,
     "metadata": {},
     "output_type": "execute_result"
    }
   ],
   "source": [
    "dats[[0,1,5,6,8], :, :].mean(axis=0)"
   ]
  },
  {
   "cell_type": "code",
   "execution_count": 26,
   "id": "9cdb2a26",
   "metadata": {
    "ExecuteTime": {
     "end_time": "2021-11-07T11:57:35.791998Z",
     "start_time": "2021-11-07T11:57:35.784527Z"
    }
   },
   "outputs": [
    {
     "data": {
      "text/plain": [
       "array([[1.356466  , 0.01422877, 0.00394971],\n",
       "       [1.46969385, 0.01422524, 0.00469386],\n",
       "       [1.72046505, 0.01604276, 0.01027314],\n",
       "       [3.38230691, 0.01295925, 0.0071284 ],\n",
       "       [1.95959179, 0.01706505, 0.01630747],\n",
       "       [1.49666295, 0.0109128 , 0.01167179],\n",
       "       [0.        , 0.01235634, 0.01711322]])"
      ]
     },
     "execution_count": 26,
     "metadata": {},
     "output_type": "execute_result"
    }
   ],
   "source": [
    "dats[[0,1,5,6,8], :, :].std(axis=0)"
   ]
  },
  {
   "cell_type": "code",
   "execution_count": 29,
   "id": "61c193aa",
   "metadata": {
    "ExecuteTime": {
     "end_time": "2021-11-07T13:41:04.490779Z",
     "start_time": "2021-11-07T13:41:04.484692Z"
    }
   },
   "outputs": [],
   "source": [
    "np.save('crime.npy', dats[[0,1,5,6,8], :, :])"
   ]
  },
  {
   "cell_type": "code",
   "execution_count": null,
   "id": "15af7e09",
   "metadata": {},
   "outputs": [],
   "source": []
  }
 ],
 "metadata": {
  "kernelspec": {
   "display_name": "py3.6.8",
   "language": "python",
   "name": "py3.6.8"
  },
  "language_info": {
   "codemirror_mode": {
    "name": "ipython",
    "version": 3
   },
   "file_extension": ".py",
   "mimetype": "text/x-python",
   "name": "python",
   "nbconvert_exporter": "python",
   "pygments_lexer": "ipython3",
   "version": "3.6.8"
  },
  "toc": {
   "base_numbering": 1,
   "nav_menu": {},
   "number_sections": true,
   "sideBar": true,
   "skip_h1_title": false,
   "title_cell": "Table of Contents",
   "title_sidebar": "Contents",
   "toc_cell": false,
   "toc_position": {
    "height": "calc(100% - 180px)",
    "left": "10px",
    "top": "150px",
    "width": "303.837px"
   },
   "toc_section_display": true,
   "toc_window_display": false
  }
 },
 "nbformat": 4,
 "nbformat_minor": 5
}
